{
  "cells": [
    {
      "cell_type": "markdown",
      "metadata": {
        "id": "view-in-github",
        "colab_type": "text"
      },
      "source": [
        "<a href=\"https://colab.research.google.com/github/UdayanRoy62/BPP4D3E/blob/main/BPP4D3E%3B%2002%3B%20Colab%20Examples.ipynb\" target=\"_parent\"><img src=\"https://colab.research.google.com/assets/colab-badge.svg\" alt=\"Open In Colab\"/></a>"
      ]
    },
    {
      "cell_type": "markdown",
      "metadata": {
        "id": "JgC6NhFZeQ21"
      },
      "source": [
        "# This is a **Main** Heading\n",
        "## This is a *Second Level* Heading\n",
        "This is some `text`."
      ]
    },
    {
      "cell_type": "code",
      "execution_count": 1,
      "metadata": {
        "colab": {
          "base_uri": "https://localhost:8080/"
        },
        "id": "rLZa5aijCQzY",
        "outputId": "542d85cd-6818-452a-9b59-1f504a05b477"
      },
      "outputs": [
        {
          "output_type": "stream",
          "name": "stdout",
          "text": [
            "Hello There! I am kinda new to Python and totally new to Google Colab.\n"
          ]
        }
      ],
      "source": [
        "print(\"Hello There! I am kinda new to Python and totally new to Google Colab.\")"
      ]
    },
    {
      "cell_type": "markdown",
      "source": [
        "This is my first work on Google Colab. It is June 4, 2024 shortly after 9:00 pm New York time.\n",
        "\n",
        "As my guide to Python, I am using *Beginning Programming with Python for Dummies*, 3rd Edition, by John Paul Mueller.\n",
        "\n",
        "So far, what have I done? I forked the book's Github repo, which contains all the code files of the book. I then opened a file -- the file I am currently working on -- from the forked Github repo in Colab, directly from Github. Now, I am typing stuff into the file. Next I will save a copy. I don't know yet whether the file I save will end up in my Github account or in my Google Drive account. (Will update!)"
      ],
      "metadata": {
        "id": "TU8Xbrnp7NDL"
      }
    }
  ],
  "metadata": {
    "colab": {
      "name": "Copy of A4D2E; 03; Colab Examples.ipynb",
      "provenance": [],
      "include_colab_link": true
    },
    "kernelspec": {
      "display_name": "Python 3",
      "language": "python",
      "name": "python3"
    },
    "language_info": {
      "codemirror_mode": {
        "name": "ipython",
        "version": 3
      },
      "file_extension": ".py",
      "mimetype": "text/x-python",
      "name": "python",
      "nbconvert_exporter": "python",
      "pygments_lexer": "ipython3",
      "version": "3.8.3"
    }
  },
  "nbformat": 4,
  "nbformat_minor": 0
}